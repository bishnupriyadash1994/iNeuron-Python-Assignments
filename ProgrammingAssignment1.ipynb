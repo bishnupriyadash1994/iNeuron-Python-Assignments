{
 "cells": [
  {
   "cell_type": "code",
   "execution_count": 2,
   "metadata": {},
   "outputs": [
    {
     "name": "stdout",
     "output_type": "stream",
     "text": [
      "Hello Python\n"
     ]
    }
   ],
   "source": [
    "a = \"Hello Python\"\n",
    "print(a)"
   ]
  },
  {
   "cell_type": "code",
   "execution_count": 4,
   "metadata": {},
   "outputs": [
    {
     "name": "stdout",
     "output_type": "stream",
     "text": [
      "0.5\n"
     ]
    }
   ],
   "source": [
    "a = 10\n",
    "b = 20\n",
    "print(a/b)"
   ]
  },
  {
   "cell_type": "code",
   "execution_count": 6,
   "metadata": {},
   "outputs": [
    {
     "name": "stdout",
     "output_type": "stream",
     "text": [
      "100.0\n"
     ]
    }
   ],
   "source": [
    "Base = 10\n",
    "Height = 20\n",
    "Area = 1/2*Base*Height\n",
    "print(Area)"
   ]
  },
  {
   "cell_type": "code",
   "execution_count": 20,
   "metadata": {},
   "outputs": [
    {
     "name": "stdout",
     "output_type": "stream",
     "text": [
      "Enter first side of triangle: 10\n",
      "Enter second side of triangle: 20\n",
      "Enter third side of triangle: 30\n",
      "Perimeter of triangle is: 30.0\n",
      "Area of triangle is: 0.0\n"
     ]
    }
   ],
   "source": [
    "a= float(input(\"Enter first side of triangle: \"))\n",
    "b= float(input(\"Enter second side of triangle: \"))\n",
    "c= float(input(\"Enter third side of triangle: \"))\n",
    "s= (a+b+c) / 2\n",
    "print(\"Perimeter of triangle is: {}\".format(s))\n",
    "Area = s*(s-a)*(s-b)*(s-c)\n",
    "print(\"Area of triangle is: {}\".format(Area))"
   ]
  },
  {
   "cell_type": "code",
   "execution_count": 25,
   "metadata": {},
   "outputs": [
    {
     "name": "stdout",
     "output_type": "stream",
     "text": [
      "Enter first side of triangle: 21\n",
      "Enter second side of triangle: 23\n",
      "Enter third side of triangle: 24\n",
      "Perimeter of triangle is: 34.0\n",
      "Area of triangle is: 15374.993983738661\n"
     ]
    }
   ],
   "source": [
    "a= float(input(\"Enter first side of triangle: \"))\n",
    "b= float(input(\"Enter second side of triangle: \"))\n",
    "c= float(input(\"Enter third side of triangle: \"))\n",
    "s= (a+b+c) / 2\n",
    "print(\"Perimeter of triangle is: {}\".format(s))\n",
    "Area = s*(s-a)*(s-b)*(s-c)**0.5\n",
    "print(\"Area of triangle is: {}\".format(Area))\n"
   ]
  },
  {
   "cell_type": "code",
   "execution_count": 26,
   "metadata": {},
   "outputs": [
    {
     "name": "stdout",
     "output_type": "stream",
     "text": [
      "x = 10\n",
      "y = 5\n"
     ]
    }
   ],
   "source": [
    "x = 5\n",
    "y = 10\n",
    "\n",
    "x, y = y, x\n",
    "print(\"x =\", x)\n",
    "print(\"y =\", y)"
   ]
  },
  {
   "cell_type": "code",
   "execution_count": 27,
   "metadata": {},
   "outputs": [
    {
     "name": "stdout",
     "output_type": "stream",
     "text": [
      "Enter the value of x:10\n",
      "Enter the value of y:20\n",
      "The value of x is 20\n",
      "The value of y is 10\n"
     ]
    }
   ],
   "source": [
    "x=input(\"Enter the value of x:\")\n",
    "y=input(\"Enter the value of y:\")\n",
    "temp=x\n",
    "x=y\n",
    "y=temp\n",
    "print(\"The value of x is {}\".format(x))\n",
    "print(\"The value of y is {}\".\n"
   ]
  },
  {
   "cell_type": "code",
   "execution_count": 28,
   "metadata": {},
   "outputs": [
    {
     "name": "stdout",
     "output_type": "stream",
     "text": [
      "8\n"
     ]
    }
   ],
   "source": [
    "import random\n",
    "\n",
    "print(random.randint(0,9))"
   ]
  },
  {
   "cell_type": "code",
   "execution_count": 30,
   "metadata": {},
   "outputs": [
    {
     "data": {
      "text/plain": [
       "10"
      ]
     },
     "execution_count": 30,
     "metadata": {},
     "output_type": "execute_result"
    }
   ],
   "source": [
    "random.randint(10,11)"
   ]
  },
  {
   "cell_type": "code",
   "execution_count": 31,
   "metadata": {},
   "outputs": [
    {
     "data": {
      "text/plain": [
       "10"
      ]
     },
     "execution_count": 31,
     "metadata": {},
     "output_type": "execute_result"
    }
   ],
   "source": [
    "random.randint(10,11)"
   ]
  },
  {
   "cell_type": "markdown",
   "metadata": {},
   "source": []
  },
  {
   "cell_type": "code",
   "execution_count": 37,
   "metadata": {},
   "outputs": [
    {
     "name": "stdout",
     "output_type": "stream",
     "text": [
      "Enter value for kilometre: 1\n",
      "0.62\n"
     ]
    }
   ],
   "source": [
    "a=float(input(\"Enter value for kilometre: \"))\n",
    "miles= 0.62 * a\n",
    "print(miles)"
   ]
  },
  {
   "cell_type": "code",
   "execution_count": 38,
   "metadata": {},
   "outputs": [
    {
     "name": "stdout",
     "output_type": "stream",
     "text": [
      "Enter temperature in Celsius: 33\n",
      "Temperature in Fahrenheit is: 91.4\n"
     ]
    }
   ],
   "source": [
    "a= float(input(\"Enter temperature in Celsius: \"))\n",
    "Fahrenheit= (a*1.8)+32\n",
    "print(\"Temperature in Fahrenheit is: {}\".format(Fahrenheit))"
   ]
  },
  {
   "cell_type": "code",
   "execution_count": 42,
   "metadata": {},
   "outputs": [
    {
     "name": "stdout",
     "output_type": "stream",
     "text": [
      "     April 2020\n",
      "Mo Tu We Th Fr Sa Su\n",
      "       1  2  3  4  5\n",
      " 6  7  8  9 10 11 12\n",
      "13 14 15 16 17 18 19\n",
      "20 21 22 23 24 25 26\n",
      "27 28 29 30\n",
      "\n"
     ]
    }
   ],
   "source": [
    "import calendar\n",
    "yy = 2020\n",
    "mm = 4\n",
    "print(calendar.month(yy,mm))"
   ]
  },
  {
   "cell_type": "code",
   "execution_count": 43,
   "metadata": {},
   "outputs": [
    {
     "name": "stdout",
     "output_type": "stream",
     "text": [
      "Enter the required year:2020\n",
      "Enter the required month:4\n",
      "     April 2020\n",
      "Mo Tu We Th Fr Sa Su\n",
      "       1  2  3  4  5\n",
      " 6  7  8  9 10 11 12\n",
      "13 14 15 16 17 18 19\n",
      "20 21 22 23 24 25 26\n",
      "27 28 29 30\n",
      "\n"
     ]
    }
   ],
   "source": [
    "import calendar\n",
    "yy = int(input(\"Enter the required year:\"))\n",
    "mm= int(input(\"Enter the required month:\"))\n",
    "print(calendar.month(yy,mm))"
   ]
  },
  {
   "cell_type": "code",
   "execution_count": 44,
   "metadata": {},
   "outputs": [
    {
     "data": {
      "text/plain": [
       "12"
      ]
     },
     "execution_count": 44,
     "metadata": {},
     "output_type": "execute_result"
    }
   ],
   "source": [
    "import random\n",
    "random.randint(10,20)"
   ]
  },
  {
   "cell_type": "code",
   "execution_count": null,
   "metadata": {},
   "outputs": [],
   "source": [
    "import cmath\n"
   ]
  }
 ],
 "metadata": {
  "kernelspec": {
   "display_name": "Python 3",
   "language": "python",
   "name": "python3"
  },
  "language_info": {
   "codemirror_mode": {
    "name": "ipython",
    "version": 3
   },
   "file_extension": ".py",
   "mimetype": "text/x-python",
   "name": "python",
   "nbconvert_exporter": "python",
   "pygments_lexer": "ipython3",
   "version": "3.7.1"
  }
 },
 "nbformat": 4,
 "nbformat_minor": 2
}
